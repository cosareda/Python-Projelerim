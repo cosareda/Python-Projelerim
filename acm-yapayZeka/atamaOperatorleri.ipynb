{
 "cells": [
  {
   "cell_type": "markdown",
   "id": "333c736a-a8d3-4186-8e10-f0735bae5f07",
   "metadata": {},
   "source": [
    "Görev 1"
   ]
  },
  {
   "cell_type": "code",
   "execution_count": 9,
   "id": "830a237e-3ca0-4c98-884a-52c9cb34fa71",
   "metadata": {},
   "outputs": [
    {
     "name": "stdout",
     "output_type": "stream",
     "text": [
      "5 Ekle: 15\n",
      "3 Çıkart: 12\n",
      "2 ile Carp: 24\n",
      "4'e Böl: 6.0\n"
     ]
    }
   ],
   "source": [
    "sayi = 10\n",
    "sayi += 5\n",
    "print(\"5 Ekle: {}\".format(sayi))\n",
    "sayi -= 3\n",
    "print(\"3 Çıkart: {}\".format(sayi))\n",
    "sayi *= 2\n",
    "print(\"2 ile Carp: {}\".format(sayi))\n",
    "sayi /= 4\n",
    "print(\"4'e Böl: {}\".format(sayi))"
   ]
  },
  {
   "cell_type": "markdown",
   "id": "0ff9442a-07ff-4d27-b834-4b64ad8e4a4b",
   "metadata": {},
   "source": [
    "Görev 2"
   ]
  },
  {
   "cell_type": "code",
   "execution_count": 18,
   "id": "1a55d07b-bedd-48b1-a964-1a58e6b2d2c1",
   "metadata": {},
   "outputs": [
    {
     "name": "stdout",
     "output_type": "stream",
     "text": [
      "Pyhton Programlama\n"
     ]
    }
   ],
   "source": [
    "metin = \"Pyhton\"\n",
    "metin += \" Programlama\"\n",
    "print(metin)"
   ]
  }
 ],
 "metadata": {
  "kernelspec": {
   "display_name": "Python 3 (ipykernel)",
   "language": "python",
   "name": "python3"
  },
  "language_info": {
   "codemirror_mode": {
    "name": "ipython",
    "version": 3
   },
   "file_extension": ".py",
   "mimetype": "text/x-python",
   "name": "python",
   "nbconvert_exporter": "python",
   "pygments_lexer": "ipython3",
   "version": "3.12.4"
  }
 },
 "nbformat": 4,
 "nbformat_minor": 5
}
