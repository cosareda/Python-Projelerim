{
 "cells": [
  {
   "cell_type": "code",
   "execution_count": 71,
   "id": "9924f6b1-7c59-4d98-bc71-7596913f2977",
   "metadata": {},
   "outputs": [],
   "source": [
    "isim = \"Eda\""
   ]
  },
  {
   "cell_type": "code",
   "execution_count": 73,
   "id": "f69faa28-aed4-408f-a432-8036b1e003c3",
   "metadata": {},
   "outputs": [],
   "source": [
    "yas = int(23)"
   ]
  },
  {
   "cell_type": "code",
   "execution_count": 75,
   "id": "f4704cdd-52a7-42b8-bbcc-00c7521a7511",
   "metadata": {},
   "outputs": [],
   "source": [
    "boy = float(155)"
   ]
  },
  {
   "cell_type": "code",
   "execution_count": 56,
   "id": "13fcf50c-177c-49fe-b932-b2fd3611215c",
   "metadata": {},
   "outputs": [],
   "source": [
    "ogrenci_mi = True"
   ]
  },
  {
   "cell_type": "code",
   "execution_count": 81,
   "id": "4cb1a473-9c46-4968-91ea-778642bb55ae",
   "metadata": {},
   "outputs": [
    {
     "name": "stdout",
     "output_type": "stream",
     "text": [
      "True\n"
     ]
    }
   ],
   "source": [
    "print(ogrenci_mi)"
   ]
  },
  {
   "cell_type": "code",
   "execution_count": 85,
   "id": "12372053-3ed5-406f-ad6f-98907b4ff55e",
   "metadata": {},
   "outputs": [
    {
     "name": "stdin",
     "output_type": "stream",
     "text": [
      "Doğum Yılınızı Giriniz: 2002\n"
     ]
    },
    {
     "name": "stdout",
     "output_type": "stream",
     "text": [
      "Yaşınız: 23\n"
     ]
    }
   ],
   "source": [
    "dogumYili = int(input(\"Doğum Yılınızı Giriniz:\"))\n",
    "yasHesap = 2025 - dogumYili\n",
    "print(\"Yaşınız: {}\" .format(yasHesap))"
   ]
  },
  {
   "cell_type": "code",
   "execution_count": null,
   "id": "fd3d2bb0-26a1-47ef-80e8-f23db8d314e2",
   "metadata": {},
   "outputs": [],
   "source": []
  }
 ],
 "metadata": {
  "kernelspec": {
   "display_name": "Python 3 (ipykernel)",
   "language": "python",
   "name": "python3"
  },
  "language_info": {
   "codemirror_mode": {
    "name": "ipython",
    "version": 3
   },
   "file_extension": ".py",
   "mimetype": "text/x-python",
   "name": "python",
   "nbconvert_exporter": "python",
   "pygments_lexer": "ipython3",
   "version": "3.12.4"
  }
 },
 "nbformat": 4,
 "nbformat_minor": 5
}
