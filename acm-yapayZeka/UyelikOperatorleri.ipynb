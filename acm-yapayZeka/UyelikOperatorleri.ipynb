{
 "cells": [
  {
   "cell_type": "markdown",
   "id": "b6ef93c9-b04f-4309-9ef7-8b395bbe0fca",
   "metadata": {},
   "source": [
    "Görev 1"
   ]
  },
  {
   "cell_type": "code",
   "execution_count": 13,
   "id": "c1893577-0a65-4213-b38e-44786660e6ee",
   "metadata": {},
   "outputs": [
    {
     "name": "stdout",
     "output_type": "stream",
     "text": [
      "Listede Elma var mı? True\n",
      "Listede karpuz var mı ? False\n"
     ]
    }
   ],
   "source": [
    "meyveler = [\"elma\",\"armut\",\"çilek\",\"kiraz\"]\n",
    "print(\"Listede Elma var mı?\" ,\"elma\" in meyveler)\n",
    "print(\"Listede karpuz var mı ?\",\"karpuz\" in meyveler)"
   ]
  },
  {
   "cell_type": "markdown",
   "id": "30c0d9aa-b991-4dad-a6a0-c5f3e0b37733",
   "metadata": {},
   "source": [
    "Görev 2"
   ]
  },
  {
   "cell_type": "code",
   "execution_count": 49,
   "id": "2c3eba90-76f5-4aa4-b1a7-af2cd7dc3d57",
   "metadata": {},
   "outputs": [
    {
     "name": "stdin",
     "output_type": "stream",
     "text": [
      "Bir karakter giriniz:  z\n"
     ]
    },
    {
     "name": "stdout",
     "output_type": "stream",
     "text": [
      "Parolada bu karakter yok\n"
     ]
    }
   ],
   "source": [
    "parola = \"PyThOn123\"\n",
    "karakter = input(\"Bir karakter giriniz: \")\n",
    "if(karakter not in parola):\n",
    "    print(\"Parolada bu karakter yok\")"
   ]
  },
  {
   "cell_type": "code",
   "execution_count": 45,
   "id": "0e10de10-c848-4800-ac93-29d3ef67f1fc",
   "metadata": {},
   "outputs": [],
   "source": []
  },
  {
   "cell_type": "code",
   "execution_count": null,
   "id": "fb7dfc94-1220-4d9a-b5d5-f32e3d54d36a",
   "metadata": {},
   "outputs": [],
   "source": []
  }
 ],
 "metadata": {
  "kernelspec": {
   "display_name": "Python 3 (ipykernel)",
   "language": "python",
   "name": "python3"
  },
  "language_info": {
   "codemirror_mode": {
    "name": "ipython",
    "version": 3
   },
   "file_extension": ".py",
   "mimetype": "text/x-python",
   "name": "python",
   "nbconvert_exporter": "python",
   "pygments_lexer": "ipython3",
   "version": "3.12.4"
  }
 },
 "nbformat": 4,
 "nbformat_minor": 5
}
