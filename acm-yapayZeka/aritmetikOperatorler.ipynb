{
 "cells": [
  {
   "cell_type": "markdown",
   "id": "bfe604ea-9cfd-4036-999f-5a3702d75b79",
   "metadata": {},
   "source": [
    "Görev 1"
   ]
  },
  {
   "cell_type": "code",
   "execution_count": 13,
   "id": "26fb25ab-9f5e-423a-abc0-84ec4f3a46b1",
   "metadata": {},
   "outputs": [
    {
     "name": "stdin",
     "output_type": "stream",
     "text": [
      "Birinci Sayıyıyı Giriniz:  10\n",
      "İkinci Sayıyı Giriniz:  5\n"
     ]
    }
   ],
   "source": [
    "sayi1 = int(input(\"Birinci Sayıyıyı Giriniz: \"))\n",
    "sayi2 = int(input(\"İkinci Sayıyı Giriniz.\"))"
   ]
  },
  {
   "cell_type": "code",
   "execution_count": 33,
   "id": "82529fc9-c53d-4cbf-9e61-074f9153ff4c",
   "metadata": {},
   "outputs": [],
   "source": [
    "toplama = sayi1 + sayi2\n",
    "cikartma = sayi1 - sayi2\n",
    "carpma = sayi1 * sayi2\n",
    "bolme = sayi1 / sayi2\n",
    "tamBolme = sayi1 // sayi2\n",
    "modAlma = sayi1 % sayi2"
   ]
  },
  {
   "cell_type": "code",
   "execution_count": 35,
   "id": "cde346bd-970a-4974-a15a-674475b09f62",
   "metadata": {},
   "outputs": [
    {
     "name": "stdout",
     "output_type": "stream",
     "text": [
      "15\n",
      "5\n",
      "50\n",
      "2.0\n",
      "0\n"
     ]
    }
   ],
   "source": [
    "print(toplama)\n",
    "print(cikartma)\n",
    "print(carpma)\n",
    "print(bolme)\n",
    "print(modAlma)"
   ]
  },
  {
   "cell_type": "markdown",
   "id": "c4d66d91-aa48-4038-ba7d-3197bd441ce8",
   "metadata": {},
   "source": [
    "Görev 2"
   ]
  },
  {
   "cell_type": "code",
   "execution_count": 30,
   "id": "91e1821f-d811-43de-bf08-f74e0708214d",
   "metadata": {},
   "outputs": [
    {
     "name": "stdin",
     "output_type": "stream",
     "text": [
      "Dairenin yarıçapını giriniz:  5\n"
     ]
    },
    {
     "name": "stdout",
     "output_type": "stream",
     "text": [
      "Dairenin Alanı: 78.5\n"
     ]
    }
   ],
   "source": [
    "r = int(input(\"Dairenin yarıçapını giriniz: \"))\n",
    "pi = 3.14\n",
    "alanHesap = pi * (r ** 2)\n",
    "print(\"Dairenin Alanı: {}\".format(alanHesap))"
   ]
  },
  {
   "cell_type": "code",
   "execution_count": null,
   "id": "a31a5d14-dca6-43bc-bc46-84be308e2335",
   "metadata": {},
   "outputs": [],
   "source": []
  }
 ],
 "metadata": {
  "kernelspec": {
   "display_name": "Python 3 (ipykernel)",
   "language": "python",
   "name": "python3"
  },
  "language_info": {
   "codemirror_mode": {
    "name": "ipython",
    "version": 3
   },
   "file_extension": ".py",
   "mimetype": "text/x-python",
   "name": "python",
   "nbconvert_exporter": "python",
   "pygments_lexer": "ipython3",
   "version": "3.12.4"
  }
 },
 "nbformat": 4,
 "nbformat_minor": 5
}
