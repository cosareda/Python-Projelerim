{
 "cells": [
  {
   "cell_type": "code",
   "execution_count": 1,
   "id": "375c9a05-286f-4bab-a362-bcdb12bd3ba4",
   "metadata": {},
   "outputs": [
    {
     "name": "stdout",
     "output_type": "stream",
     "text": [
      "True\n"
     ]
    }
   ],
   "source": [
    "a = 256\n",
    "b = 256\n",
    "print(a is b)"
   ]
  },
  {
   "cell_type": "code",
   "execution_count": 3,
   "id": "c504001b-e7c6-45d5-9b43-96394041c15a",
   "metadata": {},
   "outputs": [
    {
     "name": "stdout",
     "output_type": "stream",
     "text": [
      "False\n"
     ]
    }
   ],
   "source": [
    "c = 257\n",
    "d = 257\n",
    "print(c is d) "
   ]
  },
  {
   "cell_type": "markdown",
   "id": "6441c02b-cf96-4956-bd3e-51903868dbe0",
   "metadata": {},
   "source": [
    "Pyhton, hızlı ve verimlilik için integer tipinde -5 ile 256 arasındaki sayıları ve string tipindeki kısa kelimeleri ön belleğe alarak tekrar kullanır bu işlem de bellek kullanımı azaltır. Uzun metinler ya da büyük sayılar ön bellekte tutulsaydı eğer;kullanılmayan birçok veri, bellek tüketerek sistemin yavaşlamasına sebep olabilirdi."
   ]
  },
  {
   "cell_type": "code",
   "execution_count": null,
   "id": "85096cb4-8294-4042-b5bc-943f589cb3be",
   "metadata": {},
   "outputs": [],
   "source": []
  }
 ],
 "metadata": {
  "kernelspec": {
   "display_name": "Python 3 (ipykernel)",
   "language": "python",
   "name": "python3"
  },
  "language_info": {
   "codemirror_mode": {
    "name": "ipython",
    "version": 3
   },
   "file_extension": ".py",
   "mimetype": "text/x-python",
   "name": "python",
   "nbconvert_exporter": "python",
   "pygments_lexer": "ipython3",
   "version": "3.12.4"
  }
 },
 "nbformat": 4,
 "nbformat_minor": 5
}
