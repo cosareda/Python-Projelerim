{
 "cells": [
  {
   "cell_type": "markdown",
   "id": "8c9c0192-532b-4845-bece-814b3231eb20",
   "metadata": {},
   "source": [
    "Görev 1"
   ]
  },
  {
   "cell_type": "code",
   "execution_count": 11,
   "id": "9728c985-637f-49d7-a971-2a436344aa4a",
   "metadata": {},
   "outputs": [
    {
     "name": "stdout",
     "output_type": "stream",
     "text": [
      "EDA COŞAR\n"
     ]
    }
   ],
   "source": [
    "metin = \"Eda Coşar\"\n",
    "print(metin.upper())"
   ]
  },
  {
   "cell_type": "code",
   "execution_count": 15,
   "id": "c12ef6f6-5eda-4efe-b9ac-ebb54798b591",
   "metadata": {},
   "outputs": [
    {
     "name": "stdout",
     "output_type": "stream",
     "text": [
      "Ede Coşer\n"
     ]
    }
   ],
   "source": [
    "print(metin.replace(\"a\",\"e\"))"
   ]
  },
  {
   "cell_type": "code",
   "execution_count": 29,
   "id": "d021566b-0ae0-4f99-a85b-a859de8ba6c8",
   "metadata": {},
   "outputs": [
    {
     "name": "stdout",
     "output_type": "stream",
     "text": [
      "['Eda', 'Coşar']\n"
     ]
    }
   ],
   "source": [
    "print(metin.split(\" \"))"
   ]
  },
  {
   "cell_type": "code",
   "execution_count": 81,
   "id": "666129f3-ad7a-4aec-a7f4-061c13b2408b",
   "metadata": {},
   "outputs": [
    {
     "name": "stdout",
     "output_type": "stream",
     "text": [
      "Eda Coşar\n"
     ]
    }
   ],
   "source": [
    "metin = \"   Eda Coşar    \"\n",
    "print(metin.strip(\" \"))"
   ]
  },
  {
   "cell_type": "markdown",
   "id": "3bff47c7-e666-45c1-a07e-285f9cbc4591",
   "metadata": {},
   "source": [
    "Görev 2"
   ]
  },
  {
   "cell_type": "code",
   "execution_count": 73,
   "id": "5cad5933-4d01-480b-8067-c8e89aeb46a9",
   "metadata": {},
   "outputs": [
    {
     "name": "stdout",
     "output_type": "stream",
     "text": [
      "ilid amalmargorp nohtyP\n"
     ]
    }
   ],
   "source": [
    "metin = \"Python programlama dili\"\n",
    "tersMetin= ''.join(reversed(metin))\n",
    "print(tersMetin)"
   ]
  },
  {
   "cell_type": "code",
   "execution_count": 75,
   "id": "d7c14312-eb3c-4ee7-9add-5a5773a6ff16",
   "metadata": {},
   "outputs": [
    {
     "name": "stdout",
     "output_type": "stream",
     "text": [
      "ilid kodlama nohtyP\n"
     ]
    }
   ],
   "source": [
    "metin = \"Python programlama dili\"\n",
    "tersMetin= ''.join(reversed(metin))\n",
    "dizi = tersMetin.split()\n",
    "dizi[1] = \"kodlama\"\n",
    "tersMetin = ' '.join(dizi)\n",
    "print(tersMetin)"
   ]
  },
  {
   "cell_type": "code",
   "execution_count": null,
   "id": "227c5264-2137-4bd7-b80b-7205e613066e",
   "metadata": {},
   "outputs": [],
   "source": []
  }
 ],
 "metadata": {
  "kernelspec": {
   "display_name": "Python 3 (ipykernel)",
   "language": "python",
   "name": "python3"
  },
  "language_info": {
   "codemirror_mode": {
    "name": "ipython",
    "version": 3
   },
   "file_extension": ".py",
   "mimetype": "text/x-python",
   "name": "python",
   "nbconvert_exporter": "python",
   "pygments_lexer": "ipython3",
   "version": "3.12.4"
  }
 },
 "nbformat": 4,
 "nbformat_minor": 5
}
